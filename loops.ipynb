{
 "cells": [
  {
   "cell_type": "code",
   "execution_count": 1,
   "metadata": {},
   "outputs": [],
   "source": [
    "movie = 'Titanic'"
   ]
  },
  {
   "cell_type": "code",
   "execution_count": null,
   "metadata": {},
   "outputs": [],
   "source": [
    "for i in movie:\n",
    "    print(i)"
   ]
  },
  {
   "cell_type": "code",
   "execution_count": 17,
   "metadata": {},
   "outputs": [
    {
     "name": "stdout",
     "output_type": "stream",
     "text": [
      "T i t a n i c "
     ]
    }
   ],
   "source": [
    "for i in movie:\n",
    "    print(i, end=\" \")"
   ]
  },
  {
   "cell_type": "code",
   "execution_count": null,
   "metadata": {},
   "outputs": [],
   "source": [
    "for i in range(10):\n",
    "    print('loop running')"
   ]
  },
  {
   "cell_type": "code",
   "execution_count": null,
   "metadata": {},
   "outputs": [],
   "source": [
    "for i in range(10):\n",
    "    print(i)"
   ]
  },
  {
   "cell_type": "code",
   "execution_count": 22,
   "metadata": {},
   "outputs": [
    {
     "name": "stdout",
     "output_type": "stream",
     "text": [
      "1\n",
      "4\n",
      "9\n",
      "16\n",
      "25\n",
      "36\n",
      "49\n",
      "64\n",
      "81\n",
      "100\n"
     ]
    }
   ],
   "source": [
    "for i in range(1, 11):\n",
    "    print(i**2)"
   ]
  },
  {
   "cell_type": "code",
   "execution_count": null,
   "metadata": {},
   "outputs": [],
   "source": [
    "for i in range(1, 11):\n",
    "    print(i**2)"
   ]
  },
  {
   "cell_type": "code",
   "execution_count": 24,
   "metadata": {},
   "outputs": [
    {
     "name": "stdout",
     "output_type": "stream",
     "text": [
      "1 3 5 7 9 "
     ]
    }
   ],
   "source": [
    "for i in range(1, 11, 2):\n",
    "    print(i, end=' ')"
   ]
  },
  {
   "cell_type": "code",
   "execution_count": 29,
   "metadata": {},
   "outputs": [
    {
     "name": "stdout",
     "output_type": "stream",
     "text": [
      "31 33 35 37 39 41 43 45 47 49 "
     ]
    }
   ],
   "source": [
    "for i in range(30, 50):\n",
    "    if i%2!= 0:\n",
    "        print(i, end=' ')"
   ]
  },
  {
   "cell_type": "code",
   "execution_count": 28,
   "metadata": {},
   "outputs": [
    {
     "name": "stdout",
     "output_type": "stream",
     "text": [
      "100 99 98 97 96 95 94 93 92 91 "
     ]
    }
   ],
   "source": [
    "for i in range(100, 90, -1):\n",
    "    print(i, end=' ')"
   ]
  },
  {
   "cell_type": "code",
   "execution_count": 31,
   "metadata": {},
   "outputs": [
    {
     "data": {
      "text/plain": [
       "'abc abc abc '"
      ]
     },
     "execution_count": 31,
     "metadata": {},
     "output_type": "execute_result"
    }
   ],
   "source": [
    "'abc ' * 3"
   ]
  },
  {
   "cell_type": "code",
   "execution_count": 38,
   "metadata": {},
   "outputs": [
    {
     "data": {
      "text/plain": [
       "'***'"
      ]
     },
     "execution_count": 38,
     "metadata": {},
     "output_type": "execute_result"
    }
   ],
   "source": [
    "\"*\" * 3"
   ]
  },
  {
   "cell_type": "code",
   "execution_count": 40,
   "metadata": {},
   "outputs": [
    {
     "name": "stdout",
     "output_type": "stream",
     "text": [
      "# \n",
      "# # \n",
      "# # # \n",
      "# # # # \n",
      "# # # # # \n",
      "# # # # # # \n",
      "# # # # # # # \n",
      "# # # # # # # # \n",
      "# # # # # # # # # \n"
     ]
    }
   ],
   "source": [
    "for i in range(1, 10):\n",
    "    print('# ' * i)"
   ]
  },
  {
   "cell_type": "code",
   "execution_count": 42,
   "metadata": {},
   "outputs": [
    {
     "name": "stdout",
     "output_type": "stream",
     "text": [
      "🤩 \n",
      "🤩 🤩 \n",
      "🤩 🤩 🤩 \n",
      "🤩 🤩 🤩 🤩 \n",
      "🤩 🤩 🤩 🤩 🤩 \n",
      "🤩 🤩 🤩 🤩 🤩 🤩 \n",
      "🤩 🤩 🤩 🤩 🤩 🤩 🤩 \n",
      "🤩 🤩 🤩 🤩 🤩 🤩 🤩 🤩 \n",
      "🤩 🤩 🤩 🤩 🤩 🤩 🤩 🤩 🤩 \n"
     ]
    }
   ],
   "source": [
    "for i in range(1, 10):\n",
    "    print('🤩 ' * i)"
   ]
  },
  {
   "cell_type": "code",
   "execution_count": 48,
   "metadata": {},
   "outputs": [
    {
     "name": "stdout",
     "output_type": "stream",
     "text": [
      "# # # # # # # # # # \n",
      "# # # # # # # # # \n",
      "# # # # # # # # \n",
      "# # # # # # # \n",
      "# # # # # # \n",
      "# # # # # \n",
      "# # # # \n",
      "# # # \n",
      "# # \n",
      "# \n"
     ]
    }
   ],
   "source": [
    "for i in range(10, 0, -1):\n",
    "    print('# ' * i)"
   ]
  },
  {
   "cell_type": "code",
   "execution_count": 49,
   "metadata": {},
   "outputs": [
    {
     "name": "stdout",
     "output_type": "stream",
     "text": [
      "# \n",
      "# # \n",
      "# # # \n",
      "# # # # \n",
      "# # # # # \n",
      "# # # # \n",
      "# # # \n",
      "# # \n",
      "# \n"
     ]
    }
   ],
   "source": [
    "for i in range(1, 5):\n",
    "    print('# ' * i)\n",
    "for i in range(5, 0, -1):\n",
    "    print('# ' * i)"
   ]
  },
  {
   "cell_type": "code",
   "execution_count": 52,
   "metadata": {},
   "outputs": [
    {
     "data": {
      "text/plain": [
       "'       abc'"
      ]
     },
     "execution_count": 52,
     "metadata": {},
     "output_type": "execute_result"
    }
   ],
   "source": [
    "'abc'.rjust(10)"
   ]
  },
  {
   "cell_type": "code",
   "execution_count": 59,
   "metadata": {},
   "outputs": [
    {
     "name": "stdout",
     "output_type": "stream",
     "text": [
      "                  # \n",
      "                # # \n",
      "              # # # \n",
      "            # # # # \n",
      "          # # # # # \n",
      "        # # # # # # \n",
      "      # # # # # # # \n",
      "    # # # # # # # # \n",
      "  # # # # # # # # # \n"
     ]
    }
   ],
   "source": [
    "for i in range(1, 10):\n",
    "    print(('# ' * i).rjust(20))"
   ]
  },
  {
   "cell_type": "code",
   "execution_count": 65,
   "metadata": {},
   "outputs": [
    {
     "name": "stdout",
     "output_type": "stream",
     "text": [
      "@@@@@@@@@@@@@@@@@# \n",
      "@@@@@@@@@@@@@@@# # \n",
      "@@@@@@@@@@@@@# # # \n",
      "@@@@@@@@@@@# # # # \n",
      "@@@@@@@@@# # # # # \n",
      "@@@@@@@# # # # # # \n",
      "@@@@@# # # # # # # \n",
      "@@@# # # # # # # # \n",
      "@# # # # # # # # # \n"
     ]
    }
   ],
   "source": [
    "for i in range(1, 10):\n",
    "    print(('# ' * i).rjust(19, '@'))"
   ]
  },
  {
   "cell_type": "code",
   "execution_count": 72,
   "metadata": {},
   "outputs": [
    {
     "name": "stdout",
     "output_type": "stream",
     "text": [
      "                  #\n",
      "                ###\n",
      "              #####\n",
      "            #######\n",
      "          #########\n",
      "        ###########\n",
      "      #############\n",
      "    ###############\n",
      "  #################\n",
      "###################\n"
     ]
    }
   ],
   "source": [
    "for i in range(1, 20, 2):\n",
    "    print(('#' * i).rjust(19))"
   ]
  },
  {
   "cell_type": "code",
   "execution_count": 73,
   "metadata": {},
   "outputs": [
    {
     "data": {
      "text/plain": [
       "'   abc    '"
      ]
     },
     "execution_count": 73,
     "metadata": {},
     "output_type": "execute_result"
    }
   ],
   "source": [
    "'abc'.center(10)"
   ]
  },
  {
   "cell_type": "code",
   "execution_count": 83,
   "metadata": {},
   "outputs": [
    {
     "name": "stdout",
     "output_type": "stream",
     "text": [
      "         #          \n",
      "        ###         \n",
      "       #####        \n",
      "      #######       \n",
      "     #########      \n",
      "    ###########     \n",
      "   #############    \n",
      "  ###############   \n",
      " #################  \n",
      "################### \n"
     ]
    }
   ],
   "source": [
    "for i in range(1, 20, 2):\n",
    "    print(('#' * i).center(20))"
   ]
  },
  {
   "cell_type": "code",
   "execution_count": 92,
   "metadata": {},
   "outputs": [
    {
     "name": "stdout",
     "output_type": "stream",
     "text": [
      "                   #                    \n",
      "                #  #  #                 \n",
      "             #  #  #  #  #              \n",
      "          #  #  #  #  #  #  #           \n",
      "       #  #  #  #  #  #  #  #  #        \n",
      "          #  #  #  #  #  #  #           \n",
      "             #  #  #  #  #              \n",
      "                #  #  #                 \n",
      "                   #                    \n"
     ]
    }
   ],
   "source": [
    "for i in range(1, 10, 2):\n",
    "    print((' # ' * i).center(40))\n",
    "for i in range(7, 0, -2):\n",
    "    print((' # ' * i).center(40))"
   ]
  },
  {
   "cell_type": "code",
   "execution_count": 97,
   "metadata": {},
   "outputs": [
    {
     "name": "stdout",
     "output_type": "stream",
     "text": [
      "******************   *******************\n",
      "***************         ****************\n",
      "************               *************\n",
      "*********                     **********\n",
      "******                           *******\n",
      "*********                     **********\n",
      "************               *************\n",
      "***************         ****************\n",
      "******************   *******************\n"
     ]
    }
   ],
   "source": [
    "for i in range(1, 10, 2):\n",
    "    print(('   ' * i).center(40, '*'))\n",
    "for i in range(7, 0, -2):\n",
    "    print(('   ' * i).center(40, '*'))"
   ]
  },
  {
   "cell_type": "code",
   "execution_count": 3,
   "metadata": {},
   "outputs": [
    {
     "name": "stdout",
     "output_type": "stream",
     "text": [
      "19\n",
      "18\n",
      "17\n",
      "16\n",
      "15\n",
      "14\n",
      "13\n",
      "12\n",
      "11\n",
      "10\n"
     ]
    }
   ],
   "source": [
    "# While Loops\n",
    "num = 20\n",
    "\n",
    "while num > 10:\n",
    "    num -= 1\n",
    "    print(num)"
   ]
  },
  {
   "cell_type": "code",
   "execution_count": 4,
   "metadata": {},
   "outputs": [
    {
     "name": "stdout",
     "output_type": "stream",
     "text": [
      "Wrong password! Try again!!\n",
      "Wrong password! Try again!!\n",
      "Wrong password! Try again!!\n",
      "Wrong password! Try again!!\n",
      "Wrong password! Try again!!\n",
      "Wrong password! Try again!!\n",
      "Welcome My Master!!\n"
     ]
    }
   ],
   "source": [
    "mypassword = 'abrakadabra'\n",
    "\n",
    "while True:\n",
    "    pwd = input('Enter your password: ')\n",
    "\n",
    "    if pwd == mypassword:\n",
    "        print('Welcome My Master!!')\n",
    "        break\n",
    "    else:\n",
    "        print('Wrong password! Try again!!')"
   ]
  },
  {
   "cell_type": "code",
   "execution_count": 5,
   "metadata": {},
   "outputs": [
    {
     "name": "stdout",
     "output_type": "stream",
     "text": [
      "Wrong password! Try again!!\n",
      "Wrong password! Try again!!\n",
      "Wrong password! Try again!!\n",
      "You have reached maximum number of attempts!\n"
     ]
    }
   ],
   "source": [
    "mypassword = 'abrakadabra'\n",
    "\n",
    "count = 0\n",
    "while True:\n",
    "    pwd = input('Enter your password: ')\n",
    "\n",
    "    if pwd == mypassword:\n",
    "        print('Welcome My Master!!')\n",
    "        break\n",
    "    else:\n",
    "        print('Wrong password! Try again!!')\n",
    "\n",
    "    count += 1\n",
    "    if count == 3:\n",
    "        print('You have reached maximum number of attempts!')\n",
    "        break"
   ]
  },
  {
   "cell_type": "code",
   "execution_count": 11,
   "metadata": {},
   "outputs": [
    {
     "name": "stdout",
     "output_type": "stream",
     "text": [
      "7646\n",
      "Reverse of the number is 6467\n"
     ]
    }
   ],
   "source": [
    "# Program to reverse digits of a number\n",
    "\n",
    "num = int(input('Enter the number: '))\n",
    "reverse = 0\n",
    "print(num)\n",
    "\n",
    "while num>0:\n",
    "    d = num % 10\n",
    "    reverse = reverse * 10 + d\n",
    "    num = num // 10\n",
    "\n",
    "print('Reverse of the number is', reverse)"
   ]
  },
  {
   "cell_type": "code",
   "execution_count": 6,
   "metadata": {},
   "outputs": [
    {
     "data": {
      "text/plain": [
       "765675"
      ]
     },
     "execution_count": 6,
     "metadata": {},
     "output_type": "execute_result"
    }
   ],
   "source": []
  }
 ],
 "metadata": {
  "kernelspec": {
   "display_name": "base",
   "language": "python",
   "name": "python3"
  },
  "language_info": {
   "codemirror_mode": {
    "name": "ipython",
    "version": 3
   },
   "file_extension": ".py",
   "mimetype": "text/x-python",
   "name": "python",
   "nbconvert_exporter": "python",
   "pygments_lexer": "ipython3",
   "version": "3.8.8"
  },
  "orig_nbformat": 4
 },
 "nbformat": 4,
 "nbformat_minor": 2
}
