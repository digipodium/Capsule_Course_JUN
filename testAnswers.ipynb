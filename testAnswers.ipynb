{
 "cells": [
  {
   "cell_type": "code",
   "execution_count": 3,
   "metadata": {},
   "outputs": [
    {
     "name": "stdout",
     "output_type": "stream",
     "text": [
      "1\n"
     ]
    }
   ],
   "source": [
    "num = int(input('enter a number'));\n",
    "reverse = 0\n",
    "\n",
    "sqrt = num ** 0.5\n",
    "if sqrt == int(sqrt):\n",
    "    while num > 0:\n",
    "        remainder = num % 10\n",
    "        reverse = reverse * 10 + remainder\n",
    "        num = num // 10\n",
    "    print(reverse)\n",
    "else:\n",
    "    print('not a perfect square')\n"
   ]
  },
  {
   "cell_type": "code",
   "execution_count": 4,
   "metadata": {},
   "outputs": [
    {
     "name": "stdout",
     "output_type": "stream",
     "text": [
      "975\n"
     ]
    }
   ],
   "source": [
    "num = int(input('enter a number'))\n",
    "\n",
    "if num%2 == 0:\n",
    "    print(num/2)\n",
    "else:\n",
    "    print(num*3)"
   ]
  },
  {
   "cell_type": "code",
   "execution_count": 5,
   "metadata": {},
   "outputs": [
    {
     "name": "stdout",
     "output_type": "stream",
     "text": [
      "1\n",
      "2\n",
      "3\n",
      "5\n",
      "8\n",
      "13\n",
      "21\n",
      "34\n",
      "55\n",
      "89\n",
      "144\n"
     ]
    }
   ],
   "source": [
    "a, b = 0, 1\n",
    "\n",
    "while a+b<200:\n",
    "    c = a+b\n",
    "    print(c)\n",
    "    a, b = b, c"
   ]
  },
  {
   "cell_type": "code",
   "execution_count": 7,
   "metadata": {},
   "outputs": [
    {
     "name": "stdout",
     "output_type": "stream",
     "text": [
      "[172.5, 2731.5, 117.5, 13.0]\n"
     ]
    }
   ],
   "source": [
    "mylist = []\n",
    "\n",
    "for i in range(1, 5):\n",
    "    mylist.append(int(input('enter a number'))/2)\n",
    "\n",
    "print(mylist)"
   ]
  },
  {
   "cell_type": "code",
   "execution_count": 10,
   "metadata": {},
   "outputs": [
    {
     "name": "stdout",
     "output_type": "stream",
     "text": [
      "100\n",
      "99\n",
      "98\n",
      "97\n",
      "96\n",
      "95\n",
      "94\n",
      "93\n",
      "92\n",
      "91\n",
      "90\n",
      "89\n",
      "88\n",
      "87\n",
      "86\n",
      "85\n",
      "84\n",
      "83\n",
      "82\n",
      "81\n",
      "80\n",
      "79\n",
      "78\n",
      "77\n",
      "76\n",
      "75\n",
      "74\n",
      "73\n",
      "72\n",
      "71\n",
      "70\n",
      "69\n",
      "68\n",
      "67\n",
      "66\n",
      "65\n",
      "64\n",
      "63\n",
      "62\n",
      "61\n",
      "60\n",
      "59\n",
      "58\n",
      "57\n",
      "56\n",
      "55\n",
      "54\n",
      "53\n",
      "52\n",
      "51\n",
      "50\n",
      "49\n",
      "48\n",
      "47\n",
      "46\n",
      "45\n",
      "44\n",
      "43\n",
      "42\n",
      "41\n",
      "40\n",
      "39\n",
      "38\n",
      "37\n",
      "36\n",
      "35\n",
      "34\n",
      "33\n",
      "32\n",
      "31\n"
     ]
    }
   ],
   "source": [
    "for i in range(100, 30, -1):\n",
    "    print(i)"
   ]
  },
  {
   "cell_type": "code",
   "execution_count": 11,
   "metadata": {},
   "outputs": [
    {
     "name": "stdout",
     "output_type": "stream",
     "text": [
      "3\n"
     ]
    }
   ],
   "source": [
    "name = input('enter your name')\n",
    "\n",
    "count = 0\n",
    "\n",
    "for v in 'AEIOUaeiou':\n",
    "    if v in name:\n",
    "        count += 1\n",
    "\n",
    "print(count)"
   ]
  },
  {
   "cell_type": "code",
   "execution_count": 15,
   "metadata": {},
   "outputs": [
    {
     "name": "stdout",
     "output_type": "stream",
     "text": [
      "15.652173913043478\n"
     ]
    }
   ],
   "source": [
    "sides = int(input('enter number of sides'))\n",
    "\n",
    "if sides < 3:\n",
    "    print('not a polygon')\n",
    "else:\n",
    "    print(360/sides)"
   ]
  },
  {
   "cell_type": "code",
   "execution_count": null,
   "metadata": {},
   "outputs": [],
   "source": [
    "# 1. Write a program that asks the user to enter a number and prints the sum of the digits of that number.\n",
    "# 2. Create a reverse diamond pattern\n",
    "# 3. Print fibonacci series starting from numbers input by user upto 200\n",
    "# 4. Count total number of vowels in a list\n",
    "# 5. WAP to input list from user and print square of sum of every number."
   ]
  },
  {
   "cell_type": "code",
   "execution_count": 29,
   "metadata": {},
   "outputs": [
    {
     "name": "stdout",
     "output_type": "stream",
     "text": [
      "* * * * * * * * * * \n",
      "  * * * * * * * * * \n",
      "    * * * * * * * * \n",
      "      * * * * * * * \n",
      "        * * * * * * \n",
      "          * * * * * \n",
      "            * * * * \n",
      "              * * * \n",
      "                * * \n",
      "                  * \n",
      "                  * \n",
      "                  * * \n",
      "                  * * * \n",
      "                  * * * * \n",
      "                  * * * * * \n",
      "                  * * * * * * \n",
      "                  * * * * * * * \n",
      "                  * * * * * * * * \n",
      "                  * * * * * * * * * \n",
      "                  * * * * * * * * * * \n",
      "                  * * * * * * * * * * * \n"
     ]
    }
   ],
   "source": [
    "for i in range(10, 0, -1):\n",
    "    print((i*'* ').rjust(20))\n",
    "for i in range(1, 12):\n",
    "    print((18*' ')+(i*'* '))"
   ]
  },
  {
   "cell_type": "code",
   "execution_count": null,
   "metadata": {},
   "outputs": [],
   "source": []
  }
 ],
 "metadata": {
  "kernelspec": {
   "display_name": "base",
   "language": "python",
   "name": "python3"
  },
  "language_info": {
   "codemirror_mode": {
    "name": "ipython",
    "version": 3
   },
   "file_extension": ".py",
   "mimetype": "text/x-python",
   "name": "python",
   "nbconvert_exporter": "python",
   "pygments_lexer": "ipython3",
   "version": "3.8.8"
  },
  "orig_nbformat": 4
 },
 "nbformat": 4,
 "nbformat_minor": 2
}
