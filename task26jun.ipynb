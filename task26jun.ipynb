{
 "cells": [
  {
   "cell_type": "code",
   "execution_count": 9,
   "metadata": {},
   "outputs": [
    {
     "name": "stdout",
     "output_type": "stream",
     "text": [
      "Not prime\n"
     ]
    }
   ],
   "source": [
    "num = 15\n",
    "\n",
    "p = 0\n",
    "\n",
    "for i in range(2, num):\n",
    "    if num%i ==0:\n",
    "        p = 1\n",
    "\n",
    "if p == 1:\n",
    "    print(\"Not prime\")\n",
    "else:\n",
    "    print(\"Prime\")"
   ]
  },
  {
   "cell_type": "code",
   "execution_count": 11,
   "metadata": {},
   "outputs": [
    {
     "name": "stdout",
     "output_type": "stream",
     "text": [
      "Not prime\n"
     ]
    }
   ],
   "source": [
    "num = int(input(\"Enter a number: \"))\n",
    "\n",
    "for i in range(2, num):\n",
    "    if num%i ==0:\n",
    "        print(\"Not prime\")\n",
    "        break\n",
    "else:\n",
    "    print(\"Prime\")"
   ]
  },
  {
   "cell_type": "code",
   "execution_count": 35,
   "metadata": {},
   "outputs": [],
   "source": [
    "for i in range(5):\n",
    "    name = input(\"Enter name: \")\n",
    "\n",
    "    for v in 'aeiou':\n",
    "        if v in name:\n",
    "            print(\"vowel in \", name)\n",
    "            break"
   ]
  },
  {
   "cell_type": "code",
   "execution_count": 13,
   "metadata": {},
   "outputs": [
    {
     "name": "stdout",
     "output_type": "stream",
     "text": [
      "vowel in  7yutyjgmnvn\n"
     ]
    }
   ],
   "source": [
    "name = input(\"Enter name: \")\n",
    "\n",
    "for v in 'aeiou':\n",
    "    if v in name:\n",
    "        print(\"vowel in \", name)\n",
    "        break"
   ]
  },
  {
   "cell_type": "code",
   "execution_count": 34,
   "metadata": {},
   "outputs": [
    {
     "name": "stdout",
     "output_type": "stream",
     "text": [
      "*   *\n",
      "** **\n",
      "*****\n",
      "** **\n",
      "*   *\n"
     ]
    }
   ],
   "source": [
    "for i in range(3, -1, -2):\n",
    "    print((i*' ').center(5, '*'))\n",
    "print(('').center(5, '*'))\n",
    "for i in range(1, 4, 2):\n",
    "    print((i*' ').center(5, '*'))"
   ]
  },
  {
   "cell_type": "code",
   "execution_count": 2,
   "metadata": {},
   "outputs": [
    {
     "name": "stdout",
     "output_type": "stream",
     "text": [
      "488.14285714285717\n"
     ]
    }
   ],
   "source": [
    "nums = [234, 657, 46, 3,56, 76 ,2345]\n",
    "\n",
    "avg = sum(nums)/len(nums)\n",
    "\n",
    "print(avg)"
   ]
  },
  {
   "cell_type": "code",
   "execution_count": null,
   "metadata": {},
   "outputs": [],
   "source": []
  }
 ],
 "metadata": {
  "kernelspec": {
   "display_name": "base",
   "language": "python",
   "name": "python3"
  },
  "language_info": {
   "codemirror_mode": {
    "name": "ipython",
    "version": 3
   },
   "file_extension": ".py",
   "mimetype": "text/x-python",
   "name": "python",
   "nbconvert_exporter": "python",
   "pygments_lexer": "ipython3",
   "version": "3.8.8"
  },
  "orig_nbformat": 4
 },
 "nbformat": 4,
 "nbformat_minor": 2
}
