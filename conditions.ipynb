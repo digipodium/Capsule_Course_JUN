{
 "cells": [
  {
   "cell_type": "code",
   "execution_count": 4,
   "metadata": {},
   "outputs": [
    {
     "name": "stdout",
     "output_type": "stream",
     "text": [
      "b is greater than a\n"
     ]
    }
   ],
   "source": [
    "a = int(input('enter a'))\n",
    "b = int(input('enter b'))\n",
    "\n",
    "if a > b:\n",
    "    print('a is greater than b')\n",
    "    print('a is larger')\n",
    "    print('b is smaller')\n",
    "else:\n",
    "    print('b is greater than a')"
   ]
  },
  {
   "cell_type": "code",
   "execution_count": 6,
   "metadata": {},
   "outputs": [
    {
     "name": "stdout",
     "output_type": "stream",
     "text": [
      "odd\n"
     ]
    }
   ],
   "source": [
    "# Program to check if a number is even or odd\n",
    "num = int(input('enter a number'))\n",
    "\n",
    "if num % 2 == 0:\n",
    "    print('even')\n",
    "else:\n",
    "    print('odd')"
   ]
  },
  {
   "cell_type": "code",
   "execution_count": 17,
   "metadata": {},
   "outputs": [],
   "source": [
    "# Program to display the grade from marks\n",
    "marks = int(input('enter marks'))"
   ]
  },
  {
   "cell_type": "code",
   "execution_count": 18,
   "metadata": {},
   "outputs": [
    {
     "name": "stdout",
     "output_type": "stream",
     "text": [
      "Grade A\n"
     ]
    }
   ],
   "source": [
    "if marks >= 90:\n",
    "    print('Grade A')\n",
    "elif marks >= 70:\n",
    "    print('Grade B')\n",
    "elif marks >= 50:\n",
    "    print('Grade C')\n",
    "else:\n",
    "    print('Fail')"
   ]
  },
  {
   "cell_type": "code",
   "execution_count": 24,
   "metadata": {},
   "outputs": [
    {
     "name": "stdout",
     "output_type": "stream",
     "text": [
      "Fail\n"
     ]
    }
   ],
   "source": [
    "marks = int(input('enter marks'))\n",
    "\n",
    "if marks >= 90 and marks <= 100:\n",
    "    print('Grade A')\n",
    "elif marks >= 70 and marks < 90:\n",
    "    print('Grade B')\n",
    "elif marks >= 50 and marks < 70:\n",
    "    print('Grade C')\n",
    "elif marks >= 0 and marks < 50:\n",
    "    print('Fail')\n",
    "else:\n",
    "    print('Invalid marks')"
   ]
  },
  {
   "cell_type": "code",
   "execution_count": 25,
   "metadata": {},
   "outputs": [],
   "source": [
    "# Program to check if a number is divisible by 7 or 11"
   ]
  },
  {
   "cell_type": "code",
   "execution_count": 29,
   "metadata": {},
   "outputs": [
    {
     "name": "stdout",
     "output_type": "stream",
     "text": [
      "not divisible by 7 or 11\n"
     ]
    }
   ],
   "source": [
    "num = int(input('enter a number'))\n",
    "\n",
    "if num%7 == 0 and num%11 == 0:\n",
    "    print('divisible by both')\n",
    "elif num%7 == 0:\n",
    "    print('divisible by 7 but not 11')\n",
    "elif num%11 == 0:\n",
    "    print('divisible by 11 but not 7')\n",
    "else:\n",
    "    print('not divisible by 7 or 11')"
   ]
  },
  {
   "cell_type": "code",
   "execution_count": 7,
   "metadata": {},
   "outputs": [
    {
     "name": "stdout",
     "output_type": "stream",
     "text": [
      "perfect square\n"
     ]
    }
   ],
   "source": [
    "# to check whether a number is perfect square\n",
    "\n",
    "num = int(input('enter a number'))\n",
    "\n",
    "sqrt = num ** 0.5\n",
    "\n",
    "if sqrt == int(sqrt):\n",
    "    print('perfect square')\n",
    "else:\n",
    "    print('not a perfect square')"
   ]
  },
  {
   "cell_type": "code",
   "execution_count": 10,
   "metadata": {},
   "outputs": [
    {
     "data": {
      "text/plain": [
       "True"
      ]
     },
     "execution_count": 10,
     "metadata": {},
     "output_type": "execute_result"
    }
   ],
   "source": [
    "sqrt == int(sqrt)"
   ]
  },
  {
   "cell_type": "code",
   "execution_count": 9,
   "metadata": {},
   "outputs": [
    {
     "data": {
      "text/plain": [
       "5"
      ]
     },
     "execution_count": 9,
     "metadata": {},
     "output_type": "execute_result"
    }
   ],
   "source": [
    "int(sqrt)"
   ]
  },
  {
   "cell_type": "code",
   "execution_count": 25,
   "metadata": {},
   "outputs": [
    {
     "name": "stdout",
     "output_type": "stream",
     "text": [
      "num1 is greater than 40\n",
      "num1 is greater than 70\n"
     ]
    }
   ],
   "source": [
    "num1 = 100\n",
    "\n",
    "if num1 > 40:\n",
    "    print('num1 is greater than 40')\n",
    "if num1 > 70:\n",
    "    print('num1 is greater than 70')\n",
    "elif num1 > 90:\n",
    "    print('num1 is greater than 90')"
   ]
  },
  {
   "cell_type": "code",
   "execution_count": null,
   "metadata": {},
   "outputs": [],
   "source": [
    "# nested if condition"
   ]
  },
  {
   "cell_type": "code",
   "execution_count": 30,
   "metadata": {},
   "outputs": [
    {
     "name": "stdout",
     "output_type": "stream",
     "text": [
      "divisible by 2 but not by 6\n"
     ]
    }
   ],
   "source": [
    "# program to check if a number divisible by 2 but not by 6\n",
    "\n",
    "num = int(input('enter a number'))\n",
    "\n",
    "if num % 2 == 0:\n",
    "    if num % 6 != 0:\n",
    "        print('divisible by 2 but not by 6')\n",
    "    else:\n",
    "        print('divisible by 2 and 6')\n",
    "else:\n",
    "    print('not divisible by 2')"
   ]
  },
  {
   "cell_type": "code",
   "execution_count": 35,
   "metadata": {},
   "outputs": [
    {
     "name": "stdout",
     "output_type": "stream",
     "text": [
      "Your non-veg chicken pizza is on the way \n"
     ]
    }
   ],
   "source": [
    "choice = input('enter your choice, 1. Veg 2. Non-Veg : ')\n",
    "\n",
    "if choice == 'veg':\n",
    "    veg = input('enter your choice, 1. mushroom 2. paneer 3. mix veg')\n",
    "    if veg == 'mushroom':\n",
    "        print('Your veg mushroom pizza is on the way ')\n",
    "    elif veg == 'paneer':\n",
    "        print('Your veg paneer is on the way ')\n",
    "    elif veg == 'mix veg':\n",
    "        print('Your veg mix veg pizza is on the way ')\n",
    "    else: \n",
    "        print('invalid choice')\n",
    "\n",
    "elif choice == 'non-veg':\n",
    "    non_veg = input('enter your choice, 1. chicken 2. mutton 3. fish') \n",
    "    if non_veg == 'chicken':\n",
    "        print('Your non-veg chicken pizza is on the way ')\n",
    "    elif non_veg == 'mutton':\n",
    "        print('Your non-veg mutton pizza is on the way ')\n",
    "    elif non_veg == 'fish':\n",
    "        print('Your non-veg fish pizza is on the way ')\n",
    "    else: \n",
    "        print('invalid choice')"
   ]
  },
  {
   "cell_type": "code",
   "execution_count": null,
   "metadata": {},
   "outputs": [],
   "source": [
    "choose shape\n",
    "1. circle\n",
    "2. rectangle\n",
    "\n",
    "print the area\n",
    "\n",
    "calculate area"
   ]
  },
  {
   "cell_type": "code",
   "execution_count": 3,
   "metadata": {},
   "outputs": [
    {
     "name": "stdout",
     "output_type": "stream",
     "text": [
      "200\n"
     ]
    }
   ],
   "source": [
    "choice = input('enter your choice, 1. circle 2. rectangle : ')\n",
    "\n",
    "if choice == 'circle':\n",
    "    radius = int(input('enter radius'))\n",
    "    area = 3.14 * radius * radius\n",
    "\n",
    "elif choice == 'rectangle':\n",
    "    length = int(input('enter length'))\n",
    "    breadth = int(input('enter breadth'))\n",
    "    area = length * breadth\n",
    "\n",
    "print(area)"
   ]
  },
  {
   "cell_type": "code",
   "execution_count": 1,
   "metadata": {},
   "outputs": [
    {
     "data": {
      "text/plain": [
       "False"
      ]
     },
     "execution_count": 1,
     "metadata": {},
     "output_type": "execute_result"
    }
   ],
   "source": [
    "4 == 5 != 4"
   ]
  },
  {
   "cell_type": "code",
   "execution_count": 3,
   "metadata": {},
   "outputs": [
    {
     "data": {
      "text/plain": [
       "False"
      ]
     },
     "execution_count": 3,
     "metadata": {},
     "output_type": "execute_result"
    }
   ],
   "source": []
  },
  {
   "cell_type": "code",
   "execution_count": null,
   "metadata": {},
   "outputs": [],
   "source": []
  }
 ],
 "metadata": {
  "kernelspec": {
   "display_name": "Python 3",
   "language": "python",
   "name": "python3"
  },
  "language_info": {
   "codemirror_mode": {
    "name": "ipython",
    "version": 3
   },
   "file_extension": ".py",
   "mimetype": "text/x-python",
   "name": "python",
   "nbconvert_exporter": "python",
   "pygments_lexer": "ipython3",
   "version": "3.8.8"
  },
  "orig_nbformat": 4
 },
 "nbformat": 4,
 "nbformat_minor": 2
}
