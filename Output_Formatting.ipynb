{
 "cells": [
  {
   "cell_type": "code",
   "execution_count": 2,
   "metadata": {},
   "outputs": [
    {
     "name": "stdout",
     "output_type": "stream",
     "text": [
      "A B C\n"
     ]
    }
   ],
   "source": [
    "print('A', 'B', 'C')"
   ]
  },
  {
   "cell_type": "code",
   "execution_count": 9,
   "metadata": {},
   "outputs": [
    {
     "name": "stdout",
     "output_type": "stream",
     "text": [
      "Abra|-|Ka|-|Dabra\n"
     ]
    }
   ],
   "source": [
    "print('Abra', 'Ka', 'Dabra', sep='|-|')"
   ]
  },
  {
   "cell_type": "code",
   "execution_count": 10,
   "metadata": {},
   "outputs": [
    {
     "name": "stdout",
     "output_type": "stream",
     "text": [
      "Abra\n",
      "Ka\n",
      "Dabra\n"
     ]
    }
   ],
   "source": [
    "print('Abra', 'Ka', 'Dabra', sep='\\n')"
   ]
  },
  {
   "cell_type": "code",
   "execution_count": 11,
   "metadata": {},
   "outputs": [
    {
     "name": "stdout",
     "output_type": "stream",
     "text": [
      "Abra\tKa\tDabra\n"
     ]
    }
   ],
   "source": [
    "print('Abra', 'Ka', 'Dabra', sep='\\t')"
   ]
  },
  {
   "cell_type": "code",
   "execution_count": 15,
   "metadata": {},
   "outputs": [
    {
     "name": "stdout",
     "output_type": "stream",
     "text": [
      "Abra->Ka->Dabra->"
     ]
    }
   ],
   "source": [
    "print('Abra', end='->')\n",
    "print('Ka', end='->')\n",
    "print('Dabra', end='->')"
   ]
  },
  {
   "cell_type": "code",
   "execution_count": 18,
   "metadata": {},
   "outputs": [
    {
     "name": "stdout",
     "output_type": "stream",
     "text": [
      "My name is Mubassir and my hobby is Programming\n"
     ]
    }
   ],
   "source": [
    "# Conactenation of strings\n",
    "myname = \"Mubassir\"\n",
    "hobby = \"Programming\"\n",
    "print('My name is '+ myname + ' and my hobby is '+ hobby)"
   ]
  },
  {
   "cell_type": "code",
   "execution_count": 22,
   "metadata": {},
   "outputs": [
    {
     "name": "stdout",
     "output_type": "stream",
     "text": [
      "My name is Mubassir  and my hobby is Programming\n"
     ]
    }
   ],
   "source": [
    "# f-string\n",
    "print(f'My name is {myname}  and my hobby is {hobby}')"
   ]
  },
  {
   "cell_type": "code",
   "execution_count": null,
   "metadata": {},
   "outputs": [],
   "source": []
  }
 ],
 "metadata": {
  "kernelspec": {
   "display_name": "Python 3",
   "language": "python",
   "name": "python3"
  },
  "language_info": {
   "codemirror_mode": {
    "name": "ipython",
    "version": 3
   },
   "file_extension": ".py",
   "mimetype": "text/x-python",
   "name": "python",
   "nbconvert_exporter": "python",
   "pygments_lexer": "ipython3",
   "version": "3.10.7"
  },
  "orig_nbformat": 4
 },
 "nbformat": 4,
 "nbformat_minor": 2
}
