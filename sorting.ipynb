{
 "cells": [
  {
   "cell_type": "code",
   "execution_count": 21,
   "metadata": {},
   "outputs": [
    {
     "name": "stdout",
     "output_type": "stream",
     "text": [
      "34\n",
      "2\n",
      "9\n",
      "32\n",
      "48\n",
      "1\n"
     ]
    }
   ],
   "source": [
    "# Sorting list in ascending order\n",
    "\n",
    "nums = [34, 2, 9, 32, 48, 1]\n",
    "\n",
    "for n in nums:\n",
    "    print(n)"
   ]
  },
  {
   "cell_type": "code",
   "execution_count": 2,
   "metadata": {},
   "outputs": [
    {
     "data": {
      "text/plain": [
       "32"
      ]
     },
     "execution_count": 2,
     "metadata": {},
     "output_type": "execute_result"
    }
   ],
   "source": [
    "nums[3]"
   ]
  },
  {
   "cell_type": "code",
   "execution_count": 3,
   "metadata": {},
   "outputs": [
    {
     "data": {
      "text/plain": [
       "6"
      ]
     },
     "execution_count": 3,
     "metadata": {},
     "output_type": "execute_result"
    }
   ],
   "source": [
    "len(nums)"
   ]
  },
  {
   "cell_type": "code",
   "execution_count": 4,
   "metadata": {},
   "outputs": [
    {
     "name": "stdout",
     "output_type": "stream",
     "text": [
      "0\n",
      "1\n",
      "2\n",
      "3\n",
      "4\n",
      "5\n"
     ]
    }
   ],
   "source": [
    "for i in range(0, len(nums)):\n",
    "    print(i)"
   ]
  },
  {
   "cell_type": "code",
   "execution_count": 15,
   "metadata": {},
   "outputs": [],
   "source": [
    "for i in range(0, len(nums)-1):\n",
    "    for j in range(0, len(nums)-i-1):\n",
    "        if nums[j] > nums[j+1]:\n",
    "            nums[j] , nums[j + 1] = nums[j + 1], nums[j]"
   ]
  },
  {
   "cell_type": "code",
   "execution_count": 16,
   "metadata": {},
   "outputs": [],
   "source": [
    "for i in range(0, len(nums)-1):\n",
    "    for j in range(0, len(nums)-i-1):\n",
    "        if nums[j] < nums[j+1]:\n",
    "            nums[j] , nums[j + 1] = nums[j + 1], nums[j]"
   ]
  },
  {
   "cell_type": "code",
   "execution_count": 17,
   "metadata": {},
   "outputs": [
    {
     "data": {
      "text/plain": [
       "[48, 34, 32, 9, 2, 1]"
      ]
     },
     "execution_count": 17,
     "metadata": {},
     "output_type": "execute_result"
    }
   ],
   "source": [
    "nums"
   ]
  },
  {
   "cell_type": "code",
   "execution_count": 23,
   "metadata": {},
   "outputs": [
    {
     "name": "stdout",
     "output_type": "stream",
     "text": [
      "[2, 1, 9, 32, 34, 48]\n",
      "[2, 9, 1, 32, 34, 48]\n",
      "[2, 9, 32, 1, 34, 48]\n",
      "[2, 9, 32, 34, 1, 48]\n",
      "[2, 9, 32, 34, 48, 1]\n",
      "\n",
      "[9, 2, 32, 34, 48, 1]\n",
      "[9, 32, 2, 34, 48, 1]\n",
      "[9, 32, 34, 2, 48, 1]\n",
      "[9, 32, 34, 48, 2, 1]\n",
      "\n",
      "[32, 9, 34, 48, 2, 1]\n",
      "[32, 34, 9, 48, 2, 1]\n",
      "[32, 34, 48, 9, 2, 1]\n",
      "\n",
      "[34, 32, 48, 9, 2, 1]\n",
      "[34, 48, 32, 9, 2, 1]\n",
      "\n",
      "[48, 34, 32, 9, 2, 1]\n",
      "\n"
     ]
    }
   ],
   "source": [
    "for i in range(0, len(nums)-1):\n",
    "    for j in range(0, len(nums)-i-1):\n",
    "        if nums[j] < nums[j+1]:\n",
    "            nums[j] , nums[j + 1] = nums[j + 1], nums[j]\n",
    "        print(nums)\n",
    "    print()"
   ]
  },
  {
   "cell_type": "code",
   "execution_count": 24,
   "metadata": {},
   "outputs": [
    {
     "data": {
      "text/plain": [
       "[35, 5435, 56, 3, 45]"
      ]
     },
     "execution_count": 24,
     "metadata": {},
     "output_type": "execute_result"
    }
   ],
   "source": [
    "mylist = [35, 5435, 56, 3]\n",
    "mylist.append(45)\n",
    "mylist"
   ]
  },
  {
   "cell_type": "code",
   "execution_count": 26,
   "metadata": {},
   "outputs": [
    {
     "name": "stdout",
     "output_type": "stream",
     "text": [
      "[35]\n",
      "[35, 86]\n",
      "[35, 86, 76]\n",
      "[35, 86, 76, 39]\n",
      "[35, 86, 76, 39, 90]\n",
      "[35, 86, 76, 39, 90]\n"
     ]
    }
   ],
   "source": [
    "# take 5 numbers as input from user and store in a list\n",
    "\n",
    "userinput = []\n",
    "for i in range(5):\n",
    "    n = int(input(\"Enter a number: \"))\n",
    "    userinput.append(n)\n",
    "    print(userinput)\n",
    "\n",
    "print(userinput)"
   ]
  },
  {
   "cell_type": "code",
   "execution_count": 28,
   "metadata": {},
   "outputs": [
    {
     "data": {
      "text/plain": [
       "48"
      ]
     },
     "execution_count": 28,
     "metadata": {},
     "output_type": "execute_result"
    }
   ],
   "source": [
    "nums[0]"
   ]
  },
  {
   "cell_type": "code",
   "execution_count": 29,
   "metadata": {},
   "outputs": [
    {
     "data": {
      "text/plain": [
       "1"
      ]
     },
     "execution_count": 29,
     "metadata": {},
     "output_type": "execute_result"
    }
   ],
   "source": [
    "nums[-1]"
   ]
  },
  {
   "cell_type": "code",
   "execution_count": null,
   "metadata": {},
   "outputs": [],
   "source": []
  }
 ],
 "metadata": {
  "kernelspec": {
   "display_name": "base",
   "language": "python",
   "name": "python3"
  },
  "language_info": {
   "codemirror_mode": {
    "name": "ipython",
    "version": 3
   },
   "file_extension": ".py",
   "mimetype": "text/x-python",
   "name": "python",
   "nbconvert_exporter": "python",
   "pygments_lexer": "ipython3",
   "version": "3.8.8"
  },
  "orig_nbformat": 4
 },
 "nbformat": 4,
 "nbformat_minor": 2
}
